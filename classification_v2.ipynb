{
 "cells": [
  {
   "cell_type": "code",
   "execution_count": 23,
   "metadata": {},
   "outputs": [],
   "source": [
    "import TIdatabase as ti\n",
    "%matplotlib inline \n",
    "import numpy as np\n",
    "import pandas as pd\n",
    "import scipy.stats as stats\n",
    "import matplotlib.pyplot as plt\n",
    "import sklearn\n",
    "import statsmodels.api as sm\n",
    "import seaborn as sns\n",
    "sns.set_style(\"whitegrid\")\n",
    "sns.set_context(\"poster\")\n",
    "from matplotlib import rcParams\n",
    "from sklearn.model_selection import train_test_split\n",
    "from sklearn import linear_model\n",
    "from sklearn import svm\n",
    "from sklearn.preprocessing import Imputer\n",
    "from sklearn import metrics\n",
    "from sklearn.model_selection import cross_val_score\n",
    "from sklearn.ensemble import RandomForestClassifier\n",
    "from sklearn.tree import DecisionTreeClassifier\n",
    "from sklearn.neighbors import KNeighborsClassifier"
   ]
  },
  {
   "cell_type": "code",
   "execution_count": 24,
   "metadata": {},
   "outputs": [
    {
     "data": {
      "text/html": [
       "<div>\n",
       "<style scoped>\n",
       "    .dataframe tbody tr th:only-of-type {\n",
       "        vertical-align: middle;\n",
       "    }\n",
       "\n",
       "    .dataframe tbody tr th {\n",
       "        vertical-align: top;\n",
       "    }\n",
       "\n",
       "    .dataframe thead th {\n",
       "        text-align: right;\n",
       "    }\n",
       "</style>\n",
       "<table border=\"1\" class=\"dataframe\">\n",
       "  <thead>\n",
       "    <tr style=\"text-align: right;\">\n",
       "      <th></th>\n",
       "      <th>studentID</th>\n",
       "      <th>classrank</th>\n",
       "      <th>admissionstest</th>\n",
       "      <th>AP</th>\n",
       "      <th>averageAP</th>\n",
       "      <th>SATsubject</th>\n",
       "      <th>GPA</th>\n",
       "      <th>GPA_w</th>\n",
       "      <th>program</th>\n",
       "      <th>schooltype</th>\n",
       "      <th>...</th>\n",
       "      <th>alumni</th>\n",
       "      <th>outofstate</th>\n",
       "      <th>acceptStatus</th>\n",
       "      <th>acceptProb</th>\n",
       "      <th>name</th>\n",
       "      <th>acceptrate</th>\n",
       "      <th>size</th>\n",
       "      <th>public</th>\n",
       "      <th>finAidPct</th>\n",
       "      <th>instatePct</th>\n",
       "    </tr>\n",
       "  </thead>\n",
       "  <tbody>\n",
       "    <tr>\n",
       "      <th>0</th>\n",
       "      <td>S50C3UECT8</td>\n",
       "      <td>NaN</td>\n",
       "      <td>0.838909</td>\n",
       "      <td>7.0</td>\n",
       "      <td>1.067927</td>\n",
       "      <td>3.0</td>\n",
       "      <td>-0.188104</td>\n",
       "      <td>0.059072</td>\n",
       "      <td>Biomedical engineering</td>\n",
       "      <td>0.0</td>\n",
       "      <td>...</td>\n",
       "      <td>0.0</td>\n",
       "      <td>0.0</td>\n",
       "      <td>1.0</td>\n",
       "      <td>NaN</td>\n",
       "      <td>Rice</td>\n",
       "      <td>0.151</td>\n",
       "      <td>6621</td>\n",
       "      <td>0</td>\n",
       "      <td>0.0</td>\n",
       "      <td>0</td>\n",
       "    </tr>\n",
       "    <tr>\n",
       "      <th>1</th>\n",
       "      <td>GBWZQQRBEV</td>\n",
       "      <td>NaN</td>\n",
       "      <td>0.666993</td>\n",
       "      <td>7.0</td>\n",
       "      <td>0.661638</td>\n",
       "      <td>2.0</td>\n",
       "      <td>0.493061</td>\n",
       "      <td>0.398012</td>\n",
       "      <td>Classics</td>\n",
       "      <td>0.0</td>\n",
       "      <td>...</td>\n",
       "      <td>0.0</td>\n",
       "      <td>1.0</td>\n",
       "      <td>1.0</td>\n",
       "      <td>NaN</td>\n",
       "      <td>Rice</td>\n",
       "      <td>0.151</td>\n",
       "      <td>6621</td>\n",
       "      <td>0</td>\n",
       "      <td>0.0</td>\n",
       "      <td>0</td>\n",
       "    </tr>\n",
       "    <tr>\n",
       "      <th>2</th>\n",
       "      <td>MXXLWO1HQ2</td>\n",
       "      <td>NaN</td>\n",
       "      <td>0.208552</td>\n",
       "      <td>0.0</td>\n",
       "      <td>NaN</td>\n",
       "      <td>3.0</td>\n",
       "      <td>0.395752</td>\n",
       "      <td>-1.035963</td>\n",
       "      <td>Biological Science</td>\n",
       "      <td>1.0</td>\n",
       "      <td>...</td>\n",
       "      <td>0.0</td>\n",
       "      <td>1.0</td>\n",
       "      <td>0.0</td>\n",
       "      <td>NaN</td>\n",
       "      <td>Rice</td>\n",
       "      <td>0.151</td>\n",
       "      <td>6621</td>\n",
       "      <td>0</td>\n",
       "      <td>0.0</td>\n",
       "      <td>0</td>\n",
       "    </tr>\n",
       "    <tr>\n",
       "      <th>3</th>\n",
       "      <td>5KSL7C8SLZ</td>\n",
       "      <td>NaN</td>\n",
       "      <td>1.297350</td>\n",
       "      <td>7.0</td>\n",
       "      <td>0.864783</td>\n",
       "      <td>4.0</td>\n",
       "      <td>0.103824</td>\n",
       "      <td>-0.384156</td>\n",
       "      <td>Physics</td>\n",
       "      <td>1.0</td>\n",
       "      <td>...</td>\n",
       "      <td>0.0</td>\n",
       "      <td>1.0</td>\n",
       "      <td>0.0</td>\n",
       "      <td>NaN</td>\n",
       "      <td>Rice</td>\n",
       "      <td>0.151</td>\n",
       "      <td>6621</td>\n",
       "      <td>0</td>\n",
       "      <td>0.0</td>\n",
       "      <td>0</td>\n",
       "    </tr>\n",
       "    <tr>\n",
       "      <th>4</th>\n",
       "      <td>RQWLNGGZ49</td>\n",
       "      <td>NaN</td>\n",
       "      <td>0.323162</td>\n",
       "      <td>1.0</td>\n",
       "      <td>-0.354087</td>\n",
       "      <td>2.0</td>\n",
       "      <td>0.541716</td>\n",
       "      <td>NaN</td>\n",
       "      <td>NaN</td>\n",
       "      <td>1.0</td>\n",
       "      <td>...</td>\n",
       "      <td>0.0</td>\n",
       "      <td>1.0</td>\n",
       "      <td>1.0</td>\n",
       "      <td>NaN</td>\n",
       "      <td>Rice</td>\n",
       "      <td>0.151</td>\n",
       "      <td>6621</td>\n",
       "      <td>0</td>\n",
       "      <td>0.0</td>\n",
       "      <td>0</td>\n",
       "    </tr>\n",
       "  </tbody>\n",
       "</table>\n",
       "<p>5 rows × 34 columns</p>\n",
       "</div>"
      ],
      "text/plain": [
       "    studentID  classrank  admissionstest   AP  averageAP  SATsubject  \\\n",
       "0  S50C3UECT8        NaN        0.838909  7.0   1.067927         3.0   \n",
       "1  GBWZQQRBEV        NaN        0.666993  7.0   0.661638         2.0   \n",
       "2  MXXLWO1HQ2        NaN        0.208552  0.0        NaN         3.0   \n",
       "3  5KSL7C8SLZ        NaN        1.297350  7.0   0.864783         4.0   \n",
       "4  RQWLNGGZ49        NaN        0.323162  1.0  -0.354087         2.0   \n",
       "\n",
       "        GPA     GPA_w                 program  schooltype  ...  alumni  \\\n",
       "0 -0.188104  0.059072  Biomedical engineering         0.0  ...     0.0   \n",
       "1  0.493061  0.398012                Classics         0.0  ...     0.0   \n",
       "2  0.395752 -1.035963      Biological Science         1.0  ...     0.0   \n",
       "3  0.103824 -0.384156                 Physics         1.0  ...     0.0   \n",
       "4  0.541716       NaN                     NaN         1.0  ...     0.0   \n",
       "\n",
       "  outofstate  acceptStatus  acceptProb  name  acceptrate  size  public  \\\n",
       "0        0.0           1.0         NaN  Rice       0.151  6621       0   \n",
       "1        1.0           1.0         NaN  Rice       0.151  6621       0   \n",
       "2        1.0           0.0         NaN  Rice       0.151  6621       0   \n",
       "3        1.0           0.0         NaN  Rice       0.151  6621       0   \n",
       "4        1.0           1.0         NaN  Rice       0.151  6621       0   \n",
       "\n",
       "   finAidPct  instatePct  \n",
       "0        0.0           0  \n",
       "1        0.0           0  \n",
       "2        0.0           0  \n",
       "3        0.0           0  \n",
       "4        0.0           0  \n",
       "\n",
       "[5 rows x 34 columns]"
      ]
     },
     "execution_count": 24,
     "metadata": {},
     "output_type": "execute_result"
    }
   ],
   "source": [
    "df = pd.read_csv(\"collegedata_normalized.csv\", index_col=0)\n",
    "df.head()"
   ]
  },
  {
   "cell_type": "code",
   "execution_count": 25,
   "metadata": {},
   "outputs": [
    {
     "name": "stdout",
     "output_type": "stream",
     "text": [
      "Fraction nulls =  0.2325930745107786\n"
     ]
    }
   ],
   "source": [
    "x = df.isnull().sum(axis=1).tolist()\n",
    "y = float(sum(x)) / (df.shape[0]*df.shape[1])\n",
    "print ('Fraction nulls = ', y)"
   ]
  },
  {
   "cell_type": "code",
   "execution_count": 26,
   "metadata": {},
   "outputs": [
    {
     "data": {
      "image/png": "[encoded data removed]",
      "text/plain": [
       "<Figure size 1152x288 with 1 Axes>"
      ]
     },
     "metadata": {},
     "output_type": "display_data"
    }
   ],
   "source": [
    "percentnulls = {}\n",
    "for i in range(len(df.columns)):\n",
    "    percentnulls[df.columns[i]] = 100.0 * df[df.columns[i]].isnull().sum() / len(df[df.columns[i]])\n",
    "\n",
    "fig, axes = plt.subplots(nrows=1, ncols=1, figsize = (16,4))\n",
    "plt.hist(percentnulls.values(),bins=20,alpha=0.7,edgecolor=\"white\")\n",
    "plt.xlabel(\"% null values in feature\")\n",
    "plt.ylabel(\"Number of features\")\n",
    "plt.title(\"% Null Values Per Feature\")\n",
    "plt.gca().xaxis.grid(True,color='0.95')\n",
    "plt.gca().yaxis.grid(True,color='0.95')\n",
    "plt.tight_layout()\n",
    "plt.show()"
   ]
  },
  {
   "cell_type": "code",
   "execution_count": 27,
   "metadata": {},
   "outputs": [
    {
     "data": {
      "text/plain": [
       "['addInfo']"
      ]
     },
     "execution_count": 27,
     "metadata": {},
     "output_type": "execute_result"
    }
   ],
   "source": [
    "[i for i in percentnulls.keys() if percentnulls[i] > 20 and percentnulls[i] < 80]"
   ]
  },
  {
   "cell_type": "code",
   "execution_count": 28,
   "metadata": {},
   "outputs": [
    {
     "name": "stdout",
     "output_type": "stream",
     "text": [
      "Columns to drop:  ['classrank', 'canAfford', 'firstinfamily', 'artist', 'workexp', 'visited', 'acceptProb']\n"
     ]
    }
   ],
   "source": [
    "cols_to_drop = []\n",
    "for i in df.columns:\n",
    "    if 1.0* df[i].isnull().sum() / len(df[i]) >= 0.5:\n",
    "        cols_to_drop.append(i)\n",
    "print(\"Columns to drop: \", cols_to_drop)\n",
    "dfr = df.drop(cols_to_drop,axis=1)"
   ]
  },
  {
   "cell_type": "code",
   "execution_count": 29,
   "metadata": {},
   "outputs": [],
   "source": [
    "dfr = dfr[pd.notnull(df[\"acceptStatus\"])]"
   ]
  },
  {
   "cell_type": "code",
   "execution_count": 30,
   "metadata": {},
   "outputs": [
    {
     "name": "stdout",
     "output_type": "stream",
     "text": [
      "Fraction nulls =  0.03153017781116955\n"
     ]
    }
   ],
   "source": [
    "x = dfr.isnull().sum(axis=1).tolist()\n",
    "y = float(sum(x)) / (dfr.shape[0]*dfr.shape[1])\n",
    "print ('Fraction nulls = ', y)"
   ]
  },
  {
   "cell_type": "code",
   "execution_count": 31,
   "metadata": {},
   "outputs": [
    {
     "name": "stdout",
     "output_type": "stream",
     "text": [
      "Index(['studentID', 'admissionstest', 'AP', 'averageAP', 'SATsubject', 'GPA',\n",
      "       'GPA_w', 'program', 'schooltype', 'intendedgradyear', 'addInfo',\n",
      "       'female', 'MinorityGender', 'MinorityRace', 'international', 'sports',\n",
      "       'collegeID', 'earlyAppl', 'alumni', 'outofstate', 'acceptStatus',\n",
      "       'name', 'acceptrate', 'size', 'public', 'finAidPct', 'instatePct'],\n",
      "      dtype='object')\n"
     ]
    }
   ],
   "source": [
    "print(dfr.columns)\n",
    "predictor_cols = [\"admissionstest\",\"AP\",\"averageAP\",\"SATsubject\",\"GPA\",\"schooltype\",\"intendedgradyear\",\"female\",\"MinorityRace\",\"international\",\"sports\",\"earlyAppl\",\"alumni\",\"outofstate\",\"acceptrate\",\"size\",\"public\"]\n",
    "dfpredict = dfr[predictor_cols]\n",
    "dfresponse = dfr[\"acceptStatus\"]"
   ]
  },
  {
   "cell_type": "code",
   "execution_count": 32,
   "metadata": {},
   "outputs": [
    {
     "data": {
      "text/plain": [
       "Index(['admissionstest', 'AP', 'averageAP', 'SATsubject', 'GPA', 'schooltype',\n",
       "       'intendedgradyear', 'female', 'MinorityRace', 'international', 'sports',\n",
       "       'earlyAppl', 'alumni', 'outofstate', 'acceptrate', 'size', 'public'],\n",
       "      dtype='object')"
      ]
     },
     "execution_count": 32,
     "metadata": {},
     "output_type": "execute_result"
    }
   ],
   "source": [
    "dfpredict.columns"
   ]
  },
  {
   "cell_type": "code",
   "execution_count": 33,
   "metadata": {},
   "outputs": [
    {
     "name": "stdout",
     "output_type": "stream",
     "text": [
      "(10917, 17)\n",
      "(13310, 17)\n"
     ]
    }
   ],
   "source": [
    "print(dfpredict.dropna(axis=0,how=\"any\").shape)\n",
    "print(dfpredict.shape)"
   ]
  },
  {
   "cell_type": "code",
   "execution_count": 34,
   "metadata": {},
   "outputs": [
    {
     "name": "stderr",
     "output_type": "stream",
     "text": [
      "c:\\users\\raghu\\appdata\\local\\programs\\python\\python36\\lib\\site-packages\\sklearn\\utils\\deprecation.py:58: DeprecationWarning: Class Imputer is deprecated; Imputer was deprecated in version 0.20 and will be removed in 0.22. Import impute.SimpleImputer from sklearn instead.\n",
      "  warnings.warn(msg, category=DeprecationWarning)\n"
     ]
    },
    {
     "data": {
      "text/plain": [
       "((13310, 17), (13310,))"
      ]
     },
     "execution_count": 34,
     "metadata": {},
     "output_type": "execute_result"
    }
   ],
   "source": [
    "imp = Imputer(missing_values=\"NaN\", strategy=\"median\", axis=1)\n",
    "imp.fit(dfpredict)\n",
    "X = imp.transform(dfpredict)\n",
    "y = dfresponse\n",
    "X.shape, y.shape"
   ]
  },
  {
   "cell_type": "code",
   "execution_count": 36,
   "metadata": {},
   "outputs": [
    {
     "name": "stdout",
     "output_type": "stream",
     "text": [
      "(10648, 17) (2662, 17) (10648,) (2662,)\n"
     ]
    }
   ],
   "source": [
    "X_train, X_test, y_train, y_test = train_test_split(X, y, test_size=0.2)\n",
    "print(X_train.shape, X_test.shape, y_train.shape, y_test.shape)"
   ]
  },
  {
   "cell_type": "code",
   "execution_count": 37,
   "metadata": {},
   "outputs": [
    {
     "name": "stdout",
     "output_type": "stream",
     "text": [
      "Accuracy when predicting all accepted =  0.3786626596543952\n",
      "Accuracy when predicting all rejected =  0.6213373403456048\n"
     ]
    }
   ],
   "source": [
    "# predict all accepted\n",
    "print ('Accuracy when predicting all accepted = ', metrics.accuracy_score(y_test, np.ones(y_test.shape)))\n",
    "# predict all rejected\n",
    "print ('Accuracy when predicting all rejected = ', metrics.accuracy_score(y_test,np.zeros(y_test.shape)))"
   ]
  },
  {
   "cell_type": "code",
   "execution_count": 38,
   "metadata": {},
   "outputs": [
    {
     "name": "stderr",
     "output_type": "stream",
     "text": [
      "c:\\users\\raghu\\appdata\\local\\programs\\python\\python36\\lib\\site-packages\\sklearn\\linear_model\\logistic.py:433: FutureWarning: Default solver will be changed to 'lbfgs' in 0.22. Specify a solver to silence this warning.\n",
      "  FutureWarning)\n",
      "c:\\users\\raghu\\appdata\\local\\programs\\python\\python36\\lib\\site-packages\\sklearn\\linear_model\\logistic.py:433: FutureWarning: Default solver will be changed to 'lbfgs' in 0.22. Specify a solver to silence this warning.\n",
      "  FutureWarning)\n",
      "c:\\users\\raghu\\appdata\\local\\programs\\python\\python36\\lib\\site-packages\\sklearn\\linear_model\\logistic.py:433: FutureWarning: Default solver will be changed to 'lbfgs' in 0.22. Specify a solver to silence this warning.\n",
      "  FutureWarning)\n",
      "c:\\users\\raghu\\appdata\\local\\programs\\python\\python36\\lib\\site-packages\\sklearn\\linear_model\\logistic.py:433: FutureWarning: Default solver will be changed to 'lbfgs' in 0.22. Specify a solver to silence this warning.\n",
      "  FutureWarning)\n",
      "c:\\users\\raghu\\appdata\\local\\programs\\python\\python36\\lib\\site-packages\\sklearn\\linear_model\\logistic.py:433: FutureWarning: Default solver will be changed to 'lbfgs' in 0.22. Specify a solver to silence this warning.\n",
      "  FutureWarning)\n",
      "c:\\users\\raghu\\appdata\\local\\programs\\python\\python36\\lib\\site-packages\\sklearn\\linear_model\\logistic.py:433: FutureWarning: Default solver will be changed to 'lbfgs' in 0.22. Specify a solver to silence this warning.\n",
      "  FutureWarning)\n",
      "c:\\users\\raghu\\appdata\\local\\programs\\python\\python36\\lib\\site-packages\\sklearn\\linear_model\\logistic.py:433: FutureWarning: Default solver will be changed to 'lbfgs' in 0.22. Specify a solver to silence this warning.\n",
      "  FutureWarning)\n",
      "c:\\users\\raghu\\appdata\\local\\programs\\python\\python36\\lib\\site-packages\\sklearn\\linear_model\\logistic.py:433: FutureWarning: Default solver will be changed to 'lbfgs' in 0.22. Specify a solver to silence this warning.\n",
      "  FutureWarning)\n",
      "c:\\users\\raghu\\appdata\\local\\programs\\python\\python36\\lib\\site-packages\\sklearn\\linear_model\\logistic.py:433: FutureWarning: Default solver will be changed to 'lbfgs' in 0.22. Specify a solver to silence this warning.\n",
      "  FutureWarning)\n",
      "c:\\users\\raghu\\appdata\\local\\programs\\python\\python36\\lib\\site-packages\\sklearn\\linear_model\\logistic.py:433: FutureWarning: Default solver will be changed to 'lbfgs' in 0.22. Specify a solver to silence this warning.\n",
      "  FutureWarning)\n",
      "c:\\users\\raghu\\appdata\\local\\programs\\python\\python36\\lib\\site-packages\\sklearn\\linear_model\\logistic.py:433: FutureWarning: Default solver will be changed to 'lbfgs' in 0.22. Specify a solver to silence this warning.\n",
      "  FutureWarning)\n",
      "c:\\users\\raghu\\appdata\\local\\programs\\python\\python36\\lib\\site-packages\\sklearn\\linear_model\\logistic.py:433: FutureWarning: Default solver will be changed to 'lbfgs' in 0.22. Specify a solver to silence this warning.\n",
      "  FutureWarning)\n",
      "c:\\users\\raghu\\appdata\\local\\programs\\python\\python36\\lib\\site-packages\\sklearn\\linear_model\\logistic.py:433: FutureWarning: Default solver will be changed to 'lbfgs' in 0.22. Specify a solver to silence this warning.\n",
      "  FutureWarning)\n",
      "c:\\users\\raghu\\appdata\\local\\programs\\python\\python36\\lib\\site-packages\\sklearn\\linear_model\\logistic.py:433: FutureWarning: Default solver will be changed to 'lbfgs' in 0.22. Specify a solver to silence this warning.\n",
      "  FutureWarning)\n",
      "c:\\users\\raghu\\appdata\\local\\programs\\python\\python36\\lib\\site-packages\\sklearn\\linear_model\\logistic.py:433: FutureWarning: Default solver will be changed to 'lbfgs' in 0.22. Specify a solver to silence this warning.\n",
      "  FutureWarning)\n",
      "c:\\users\\raghu\\appdata\\local\\programs\\python\\python36\\lib\\site-packages\\sklearn\\linear_model\\logistic.py:433: FutureWarning: Default solver will be changed to 'lbfgs' in 0.22. Specify a solver to silence this warning.\n",
      "  FutureWarning)\n",
      "c:\\users\\raghu\\appdata\\local\\programs\\python\\python36\\lib\\site-packages\\sklearn\\linear_model\\logistic.py:433: FutureWarning: Default solver will be changed to 'lbfgs' in 0.22. Specify a solver to silence this warning.\n",
      "  FutureWarning)\n",
      "c:\\users\\raghu\\appdata\\local\\programs\\python\\python36\\lib\\site-packages\\sklearn\\linear_model\\logistic.py:433: FutureWarning: Default solver will be changed to 'lbfgs' in 0.22. Specify a solver to silence this warning.\n",
      "  FutureWarning)\n",
      "c:\\users\\raghu\\appdata\\local\\programs\\python\\python36\\lib\\site-packages\\sklearn\\linear_model\\logistic.py:433: FutureWarning: Default solver will be changed to 'lbfgs' in 0.22. Specify a solver to silence this warning.\n",
      "  FutureWarning)\n",
      "c:\\users\\raghu\\appdata\\local\\programs\\python\\python36\\lib\\site-packages\\sklearn\\linear_model\\logistic.py:433: FutureWarning: Default solver will be changed to 'lbfgs' in 0.22. Specify a solver to silence this warning.\n",
      "  FutureWarning)\n",
      "c:\\users\\raghu\\appdata\\local\\programs\\python\\python36\\lib\\site-packages\\sklearn\\linear_model\\logistic.py:433: FutureWarning: Default solver will be changed to 'lbfgs' in 0.22. Specify a solver to silence this warning.\n",
      "  FutureWarning)\n",
      "c:\\users\\raghu\\appdata\\local\\programs\\python\\python36\\lib\\site-packages\\sklearn\\linear_model\\logistic.py:433: FutureWarning: Default solver will be changed to 'lbfgs' in 0.22. Specify a solver to silence this warning.\n",
      "  FutureWarning)\n",
      "c:\\users\\raghu\\appdata\\local\\programs\\python\\python36\\lib\\site-packages\\sklearn\\linear_model\\logistic.py:433: FutureWarning: Default solver will be changed to 'lbfgs' in 0.22. Specify a solver to silence this warning.\n",
      "  FutureWarning)\n",
      "c:\\users\\raghu\\appdata\\local\\programs\\python\\python36\\lib\\site-packages\\sklearn\\linear_model\\logistic.py:433: FutureWarning: Default solver will be changed to 'lbfgs' in 0.22. Specify a solver to silence this warning.\n",
      "  FutureWarning)\n",
      "c:\\users\\raghu\\appdata\\local\\programs\\python\\python36\\lib\\site-packages\\sklearn\\linear_model\\logistic.py:433: FutureWarning: Default solver will be changed to 'lbfgs' in 0.22. Specify a solver to silence this warning.\n",
      "  FutureWarning)\n",
      "c:\\users\\raghu\\appdata\\local\\programs\\python\\python36\\lib\\site-packages\\sklearn\\linear_model\\logistic.py:433: FutureWarning: Default solver will be changed to 'lbfgs' in 0.22. Specify a solver to silence this warning.\n",
      "  FutureWarning)\n",
      "c:\\users\\raghu\\appdata\\local\\programs\\python\\python36\\lib\\site-packages\\sklearn\\linear_model\\logistic.py:433: FutureWarning: Default solver will be changed to 'lbfgs' in 0.22. Specify a solver to silence this warning.\n",
      "  FutureWarning)\n",
      "c:\\users\\raghu\\appdata\\local\\programs\\python\\python36\\lib\\site-packages\\sklearn\\linear_model\\logistic.py:433: FutureWarning: Default solver will be changed to 'lbfgs' in 0.22. Specify a solver to silence this warning.\n",
      "  FutureWarning)\n",
      "c:\\users\\raghu\\appdata\\local\\programs\\python\\python36\\lib\\site-packages\\sklearn\\linear_model\\logistic.py:433: FutureWarning: Default solver will be changed to 'lbfgs' in 0.22. Specify a solver to silence this warning.\n",
      "  FutureWarning)\n",
      "c:\\users\\raghu\\appdata\\local\\programs\\python\\python36\\lib\\site-packages\\sklearn\\linear_model\\logistic.py:433: FutureWarning: Default solver will be changed to 'lbfgs' in 0.22. Specify a solver to silence this warning.\n",
      "  FutureWarning)\n",
      "c:\\users\\raghu\\appdata\\local\\programs\\python\\python36\\lib\\site-packages\\sklearn\\linear_model\\logistic.py:433: FutureWarning: Default solver will be changed to 'lbfgs' in 0.22. Specify a solver to silence this warning.\n",
      "  FutureWarning)\n",
      "c:\\users\\raghu\\appdata\\local\\programs\\python\\python36\\lib\\site-packages\\sklearn\\linear_model\\logistic.py:433: FutureWarning: Default solver will be changed to 'lbfgs' in 0.22. Specify a solver to silence this warning.\n",
      "  FutureWarning)\n",
      "c:\\users\\raghu\\appdata\\local\\programs\\python\\python36\\lib\\site-packages\\sklearn\\linear_model\\logistic.py:433: FutureWarning: Default solver will be changed to 'lbfgs' in 0.22. Specify a solver to silence this warning.\n",
      "  FutureWarning)\n",
      "c:\\users\\raghu\\appdata\\local\\programs\\python\\python36\\lib\\site-packages\\sklearn\\linear_model\\logistic.py:433: FutureWarning: Default solver will be changed to 'lbfgs' in 0.22. Specify a solver to silence this warning.\n",
      "  FutureWarning)\n",
      "c:\\users\\raghu\\appdata\\local\\programs\\python\\python36\\lib\\site-packages\\sklearn\\linear_model\\logistic.py:433: FutureWarning: Default solver will be changed to 'lbfgs' in 0.22. Specify a solver to silence this warning.\n",
      "  FutureWarning)\n"
     ]
    }
   ],
   "source": [
    "cdict = {}\n",
    "for c in [0.001,0.01,0.1,1,10,100,1000]:\n",
    "    clf = linear_model.LogisticRegression(C=c)\n",
    "    scores = cross_val_score(clf, X_train, y_train, scoring='accuracy', cv=5)\n",
    "    cdict[c] = scores.mean()"
   ]
  },
  {
   "cell_type": "code",
   "execution_count": 39,
   "metadata": {},
   "outputs": [
    {
     "name": "stdout",
     "output_type": "stream",
     "text": [
      "{0.001: 0.6600283586598659, 0.01: 0.6681061222509631, 0.1: 0.6676364622682077, 1: 0.6679181965127228, 10: 0.6679181965127228, 100: 0.6679181965127228, 1000: 0.6679181965127228}\n",
      "Best parameter:  0.01 0.6681061222509631\n",
      "Accuracy on test set:  0.6562734785875282\n"
     ]
    },
    {
     "name": "stderr",
     "output_type": "stream",
     "text": [
      "c:\\users\\raghu\\appdata\\local\\programs\\python\\python36\\lib\\site-packages\\sklearn\\linear_model\\logistic.py:433: FutureWarning: Default solver will be changed to 'lbfgs' in 0.22. Specify a solver to silence this warning.\n",
      "  FutureWarning)\n"
     ]
    }
   ],
   "source": [
    "print(cdict)\n",
    "best_c = max(cdict, key=cdict.get)\n",
    "print('Best parameter: ', best_c, cdict[best_c])\n",
    "clflog = linear_model.LogisticRegression(C=best_c)\n",
    "clflog.fit(X_train,y_train)\n",
    "predicted = clflog.predict(X_test)\n",
    "print ('Accuracy on test set: ',metrics.accuracy_score(y_test, predicted))"
   ]
  },
  {
   "cell_type": "code",
   "execution_count": 40,
   "metadata": {},
   "outputs": [],
   "source": [
    "ntdict = {}\n",
    "for nt in [100,250,500,1000,2500]:\n",
    "    clf = RandomForestClassifier(n_estimators=nt,criterion=\"gini\")\n",
    "    scores = cross_val_score(clf, X_train, y_train, cv=5)\n",
    "    ntdict[nt] = scores.mean()"
   ]
  },
  {
   "cell_type": "code",
   "execution_count": 41,
   "metadata": {},
   "outputs": [
    {
     "name": "stdout",
     "output_type": "stream",
     "text": [
      "{100: 0.7428624163959803, 250: 0.7440828972582954, 500: 0.7447410563270023, 1000: 0.7442707788928656, 2500: 0.7438018686725016}\n",
      "Best parameter:  500 0.7447410563270023\n",
      "Accuracy on test set:  0.7411720510894064\n"
     ]
    }
   ],
   "source": [
    "print(ntdict)\n",
    "best_nt = max(ntdict, key=ntdict.get)\n",
    "print ('Best parameter: ',best_nt, ntdict[best_nt])\n",
    "clfRF_gini = RandomForestClassifier(n_estimators=nt)\n",
    "clfRF_gini.fit(X_train,y_train)\n",
    "predicted = clfRF_gini.predict(X_test)\n",
    "print ('Accuracy on test set: ',metrics.accuracy_score(y_test,predicted))"
   ]
  },
  {
   "cell_type": "code",
   "execution_count": 42,
   "metadata": {},
   "outputs": [
    {
     "name": "stdout",
     "output_type": "stream",
     "text": [
      "{250: 0.7425809908771559, 500: 0.7443653812652019, 1000: 0.7464313735867529, 2500: 0.7461496393422379, 5000: 0.7442713522405766}\n",
      "Best parameter:  1000 0.7464313735867529\n",
      "Accuracy on test set:  0.7407963936889557\n"
     ]
    }
   ],
   "source": [
    "ntdict = {}\n",
    "# We added 5000 because a few times, the optimal number of trees was on the edge\n",
    "for nt in [250,500,1000,2500,5000]:\n",
    "    clf = RandomForestClassifier(n_estimators=nt,criterion=\"entropy\")\n",
    "    scores = cross_val_score(clf, X_train, y_train, cv=5)\n",
    "    ntdict[nt] = scores.mean()\n",
    "print (ntdict)\n",
    "best_nt = max(ntdict, key=ntdict.get)\n",
    "print ('Best parameter: ',best_nt, ntdict[best_nt])\n",
    "clfRF_ent = RandomForestClassifier(n_estimators=nt)\n",
    "clfRF_ent.fit(X_train,y_train)\n",
    "predicted = clfRF_ent.predict(X_test)\n",
    "print ('Accuracy on test set: ',metrics.accuracy_score(y_test,predicted))"
   ]
  },
  {
   "cell_type": "code",
   "execution_count": 43,
   "metadata": {},
   "outputs": [],
   "source": [
    "# create interpretable labels for the columns to make the plots more clear for general public\n",
    "better_labels = {\n",
    "    \"admissionstest\": \"ACT/SAT score\",\n",
    "    \"acceptrate\": \"College acceptance rate\",\n",
    "    \"GPA\": \"GPA\",\n",
    "    \"averageAP\": \"Average AP score\",\n",
    "    \"intendedgradyear\": \"College graduation year\",\n",
    "    \"size\": \"College size\",\n",
    "    \"AP\": \"# AP exams taken\",\n",
    "    \"SATsubject\": \"# SAT subject tests taken\",\n",
    "    \"female\": \"Gender / Female\",\n",
    "    \"schooltype\": \"Private High School\",\n",
    "    \"MinorityRace\": \"Underrepresented Minority\",\n",
    "    \"earlyAppl\": \"Early Application\",\n",
    "    \"outofstate\": \"Out of State\",\n",
    "    \"public\": \"Public College\",\n",
    "    \"alumni\": \"Legacy\",\n",
    "    \"international\": \"International Student\",\n",
    "    \"sports\": \"Varsity Sports\"\n",
    "    }"
   ]
  },
  {
   "cell_type": "code",
   "execution_count": 44,
   "metadata": {},
   "outputs": [
    {
     "data": {
      "image/png": "[encoded data removed]",
      "text/plain": [
       "<Figure size 432x288 with 1 Axes>"
      ]
     },
     "metadata": {},
     "output_type": "display_data"
    }
   ],
   "source": [
    "# create dictionary of feature importances and plot\n",
    "clf=clfRF_gini\n",
    "feature_importance = {}\n",
    "for i in range(len(dfpredict.columns)):\n",
    "    feature_importance[better_labels[dfpredict.columns[i]]] = clf.feature_importances_[i]\n",
    "# plot sorted importances\n",
    "sns.set_style(\"white\")\n",
    "plt.barh(range(len(dfpredict.columns)),sorted(feature_importance.values()), align=\"center\",alpha=0.7,edgecolor='white')\n",
    "plt.ylim([-1,17])\n",
    "plt.yticks(range(len(dfpredict.columns)), sorted(feature_importance,key=feature_importance.get))\n",
    "plt.ylabel(\"Factor\")\n",
    "plt.xlabel(\"importance\")\n",
    "plt.title(\"Relative Importance to College Admission\")\n",
    "plt.gca().yaxis.grid(False)\n",
    "plt.gca().xaxis.grid(True,color='0.95')\n",
    "plt.tight_layout()\n",
    "sns.despine(left=True,bottom=True)\n",
    "plt.savefig(\"features.png\")\n",
    "plt.show()\n"
   ]
  },
  {
   "cell_type": "code",
   "execution_count": 45,
   "metadata": {},
   "outputs": [
    {
     "name": "stdout",
     "output_type": "stream",
     "text": [
      "Accuracy on test test: 0.6675432006010519\n"
     ]
    }
   ],
   "source": [
    "dt = DecisionTreeClassifier()\n",
    "dt.fit(X_train,y_train)\n",
    "predicted = dt.predict(X_test)\n",
    "print ('Accuracy on test test:', metrics.accuracy_score(y_test, predicted))"
   ]
  },
  {
   "cell_type": "code",
   "execution_count": 46,
   "metadata": {},
   "outputs": [
    {
     "name": "stdout",
     "output_type": "stream",
     "text": [
      "{10: 0.6929931176222829, 15: 0.6955292109632903, 20: 0.7004116636565911, 25: 0.6990034775743863, 30: 0.7027603605033993, 35: 0.6989097131717815}\n",
      "Best parameter:  30 0.7027603605033993\n",
      "Accuracy on test set:  0.7013523666416228\n"
     ]
    }
   ],
   "source": [
    "kdict = {}\n",
    "for k in [10,15,20,25,30,35]:\n",
    "    clf = KNeighborsClassifier(n_neighbors=k)\n",
    "    scores = cross_val_score(clf, X_train, y_train, cv=5, scoring='accuracy')\n",
    "    kdict[k] = scores.mean()\n",
    "print (kdict)\n",
    "best_k = max(kdict, key=kdict.get)\n",
    "print ('Best parameter: ',best_k, kdict[best_k])\n",
    "clfknn = KNeighborsClassifier(n_neighbors=best_k)\n",
    "clfknn.fit(X_train,y_train)\n",
    "predicted = clfknn.predict(X_test)\n",
    "print ('Accuracy on test set: ', metrics.accuracy_score(y_test,predicted))"
   ]
  },
  {
   "cell_type": "code",
   "execution_count": 47,
   "metadata": {},
   "outputs": [
    {
     "name": "stderr",
     "output_type": "stream",
     "text": [
      "c:\\users\\raghu\\appdata\\local\\programs\\python\\python36\\lib\\site-packages\\sklearn\\svm\\base.py:931: ConvergenceWarning: Liblinear failed to converge, increase the number of iterations.\n",
      "  \"the number of iterations.\", ConvergenceWarning)\n",
      "c:\\users\\raghu\\appdata\\local\\programs\\python\\python36\\lib\\site-packages\\sklearn\\svm\\base.py:931: ConvergenceWarning: Liblinear failed to converge, increase the number of iterations.\n",
      "  \"the number of iterations.\", ConvergenceWarning)\n",
      "c:\\users\\raghu\\appdata\\local\\programs\\python\\python36\\lib\\site-packages\\sklearn\\svm\\base.py:931: ConvergenceWarning: Liblinear failed to converge, increase the number of iterations.\n",
      "  \"the number of iterations.\", ConvergenceWarning)\n",
      "c:\\users\\raghu\\appdata\\local\\programs\\python\\python36\\lib\\site-packages\\sklearn\\svm\\base.py:931: ConvergenceWarning: Liblinear failed to converge, increase the number of iterations.\n",
      "  \"the number of iterations.\", ConvergenceWarning)\n",
      "c:\\users\\raghu\\appdata\\local\\programs\\python\\python36\\lib\\site-packages\\sklearn\\svm\\base.py:931: ConvergenceWarning: Liblinear failed to converge, increase the number of iterations.\n",
      "  \"the number of iterations.\", ConvergenceWarning)\n",
      "c:\\users\\raghu\\appdata\\local\\programs\\python\\python36\\lib\\site-packages\\sklearn\\svm\\base.py:931: ConvergenceWarning: Liblinear failed to converge, increase the number of iterations.\n",
      "  \"the number of iterations.\", ConvergenceWarning)\n",
      "c:\\users\\raghu\\appdata\\local\\programs\\python\\python36\\lib\\site-packages\\sklearn\\svm\\base.py:931: ConvergenceWarning: Liblinear failed to converge, increase the number of iterations.\n",
      "  \"the number of iterations.\", ConvergenceWarning)\n",
      "c:\\users\\raghu\\appdata\\local\\programs\\python\\python36\\lib\\site-packages\\sklearn\\svm\\base.py:931: ConvergenceWarning: Liblinear failed to converge, increase the number of iterations.\n",
      "  \"the number of iterations.\", ConvergenceWarning)\n",
      "c:\\users\\raghu\\appdata\\local\\programs\\python\\python36\\lib\\site-packages\\sklearn\\svm\\base.py:931: ConvergenceWarning: Liblinear failed to converge, increase the number of iterations.\n",
      "  \"the number of iterations.\", ConvergenceWarning)\n",
      "c:\\users\\raghu\\appdata\\local\\programs\\python\\python36\\lib\\site-packages\\sklearn\\svm\\base.py:931: ConvergenceWarning: Liblinear failed to converge, increase the number of iterations.\n",
      "  \"the number of iterations.\", ConvergenceWarning)\n",
      "c:\\users\\raghu\\appdata\\local\\programs\\python\\python36\\lib\\site-packages\\sklearn\\svm\\base.py:931: ConvergenceWarning: Liblinear failed to converge, increase the number of iterations.\n",
      "  \"the number of iterations.\", ConvergenceWarning)\n",
      "c:\\users\\raghu\\appdata\\local\\programs\\python\\python36\\lib\\site-packages\\sklearn\\svm\\base.py:931: ConvergenceWarning: Liblinear failed to converge, increase the number of iterations.\n",
      "  \"the number of iterations.\", ConvergenceWarning)\n",
      "c:\\users\\raghu\\appdata\\local\\programs\\python\\python36\\lib\\site-packages\\sklearn\\svm\\base.py:931: ConvergenceWarning: Liblinear failed to converge, increase the number of iterations.\n",
      "  \"the number of iterations.\", ConvergenceWarning)\n",
      "c:\\users\\raghu\\appdata\\local\\programs\\python\\python36\\lib\\site-packages\\sklearn\\svm\\base.py:931: ConvergenceWarning: Liblinear failed to converge, increase the number of iterations.\n",
      "  \"the number of iterations.\", ConvergenceWarning)\n",
      "c:\\users\\raghu\\appdata\\local\\programs\\python\\python36\\lib\\site-packages\\sklearn\\svm\\base.py:931: ConvergenceWarning: Liblinear failed to converge, increase the number of iterations.\n",
      "  \"the number of iterations.\", ConvergenceWarning)\n",
      "c:\\users\\raghu\\appdata\\local\\programs\\python\\python36\\lib\\site-packages\\sklearn\\svm\\base.py:931: ConvergenceWarning: Liblinear failed to converge, increase the number of iterations.\n",
      "  \"the number of iterations.\", ConvergenceWarning)\n",
      "c:\\users\\raghu\\appdata\\local\\programs\\python\\python36\\lib\\site-packages\\sklearn\\svm\\base.py:931: ConvergenceWarning: Liblinear failed to converge, increase the number of iterations.\n",
      "  \"the number of iterations.\", ConvergenceWarning)\n",
      "c:\\users\\raghu\\appdata\\local\\programs\\python\\python36\\lib\\site-packages\\sklearn\\svm\\base.py:931: ConvergenceWarning: Liblinear failed to converge, increase the number of iterations.\n",
      "  \"the number of iterations.\", ConvergenceWarning)\n",
      "c:\\users\\raghu\\appdata\\local\\programs\\python\\python36\\lib\\site-packages\\sklearn\\svm\\base.py:931: ConvergenceWarning: Liblinear failed to converge, increase the number of iterations.\n",
      "  \"the number of iterations.\", ConvergenceWarning)\n",
      "c:\\users\\raghu\\appdata\\local\\programs\\python\\python36\\lib\\site-packages\\sklearn\\svm\\base.py:931: ConvergenceWarning: Liblinear failed to converge, increase the number of iterations.\n",
      "  \"the number of iterations.\", ConvergenceWarning)\n",
      "c:\\users\\raghu\\appdata\\local\\programs\\python\\python36\\lib\\site-packages\\sklearn\\svm\\base.py:931: ConvergenceWarning: Liblinear failed to converge, increase the number of iterations.\n",
      "  \"the number of iterations.\", ConvergenceWarning)\n",
      "c:\\users\\raghu\\appdata\\local\\programs\\python\\python36\\lib\\site-packages\\sklearn\\svm\\base.py:931: ConvergenceWarning: Liblinear failed to converge, increase the number of iterations.\n",
      "  \"the number of iterations.\", ConvergenceWarning)\n",
      "c:\\users\\raghu\\appdata\\local\\programs\\python\\python36\\lib\\site-packages\\sklearn\\svm\\base.py:931: ConvergenceWarning: Liblinear failed to converge, increase the number of iterations.\n",
      "  \"the number of iterations.\", ConvergenceWarning)\n",
      "c:\\users\\raghu\\appdata\\local\\programs\\python\\python36\\lib\\site-packages\\sklearn\\svm\\base.py:931: ConvergenceWarning: Liblinear failed to converge, increase the number of iterations.\n",
      "  \"the number of iterations.\", ConvergenceWarning)\n",
      "c:\\users\\raghu\\appdata\\local\\programs\\python\\python36\\lib\\site-packages\\sklearn\\svm\\base.py:931: ConvergenceWarning: Liblinear failed to converge, increase the number of iterations.\n",
      "  \"the number of iterations.\", ConvergenceWarning)\n",
      "c:\\users\\raghu\\appdata\\local\\programs\\python\\python36\\lib\\site-packages\\sklearn\\svm\\base.py:931: ConvergenceWarning: Liblinear failed to converge, increase the number of iterations.\n",
      "  \"the number of iterations.\", ConvergenceWarning)\n",
      "c:\\users\\raghu\\appdata\\local\\programs\\python\\python36\\lib\\site-packages\\sklearn\\svm\\base.py:931: ConvergenceWarning: Liblinear failed to converge, increase the number of iterations.\n",
      "  \"the number of iterations.\", ConvergenceWarning)\n",
      "c:\\users\\raghu\\appdata\\local\\programs\\python\\python36\\lib\\site-packages\\sklearn\\svm\\base.py:931: ConvergenceWarning: Liblinear failed to converge, increase the number of iterations.\n",
      "  \"the number of iterations.\", ConvergenceWarning)\n",
      "c:\\users\\raghu\\appdata\\local\\programs\\python\\python36\\lib\\site-packages\\sklearn\\svm\\base.py:931: ConvergenceWarning: Liblinear failed to converge, increase the number of iterations.\n",
      "  \"the number of iterations.\", ConvergenceWarning)\n",
      "c:\\users\\raghu\\appdata\\local\\programs\\python\\python36\\lib\\site-packages\\sklearn\\svm\\base.py:931: ConvergenceWarning: Liblinear failed to converge, increase the number of iterations.\n",
      "  \"the number of iterations.\", ConvergenceWarning)\n"
     ]
    },
    {
     "name": "stdout",
     "output_type": "stream",
     "text": [
      "{0.0001: 0.5330740037532223, 0.001: 0.5873463042227058, 0.01: 0.5732402304857798, 0.1: 0.5794589802790439, 1: 0.5744615052141564, 10: 0.571759449762612}\n",
      "Best parameter:  0.001 0.5873463042227058\n",
      "Accuracy on test set:  0.49586776859504134\n"
     ]
    },
    {
     "name": "stderr",
     "output_type": "stream",
     "text": [
      "c:\\users\\raghu\\appdata\\local\\programs\\python\\python36\\lib\\site-packages\\sklearn\\svm\\base.py:931: ConvergenceWarning: Liblinear failed to converge, increase the number of iterations.\n",
      "  \"the number of iterations.\", ConvergenceWarning)\n"
     ]
    }
   ],
   "source": [
    "cdict = {}\n",
    "for c in [0.0001,0.001,0.01,0.1,1,10]:\n",
    "    clf = svm.LinearSVC(loss=\"hinge\",C=c);\n",
    "    scores = cross_val_score(clf, X_train, y_train, cv=5, scoring='accuracy')\n",
    "    cdict[c] = scores.mean()\n",
    "print (cdict)\n",
    "best_c = max(cdict, key=cdict.get)\n",
    "print ('Best parameter: ', best_c, cdict[best_c])\n",
    "clf = svm.LinearSVC(loss=\"hinge\",C=best_c);\n",
    "clf.fit(X_train,y_train)\n",
    "predicted = clf.predict(X_test)\n",
    "print ('Accuracy on test set: ',metrics.accuracy_score(y_test,predicted))"
   ]
  },
  {
   "cell_type": "code",
   "execution_count": 48,
   "metadata": {},
   "outputs": [
    {
     "name": "stderr",
     "output_type": "stream",
     "text": [
      "c:\\users\\raghu\\appdata\\local\\programs\\python\\python36\\lib\\site-packages\\sklearn\\svm\\base.py:196: FutureWarning: The default value of gamma will change from 'auto' to 'scale' in version 0.22 to account better for unscaled features. Set gamma explicitly to 'auto' or 'scale' to avoid this warning.\n",
      "  \"avoid this warning.\", FutureWarning)\n",
      "c:\\users\\raghu\\appdata\\local\\programs\\python\\python36\\lib\\site-packages\\sklearn\\svm\\base.py:196: FutureWarning: The default value of gamma will change from 'auto' to 'scale' in version 0.22 to account better for unscaled features. Set gamma explicitly to 'auto' or 'scale' to avoid this warning.\n",
      "  \"avoid this warning.\", FutureWarning)\n",
      "c:\\users\\raghu\\appdata\\local\\programs\\python\\python36\\lib\\site-packages\\sklearn\\svm\\base.py:196: FutureWarning: The default value of gamma will change from 'auto' to 'scale' in version 0.22 to account better for unscaled features. Set gamma explicitly to 'auto' or 'scale' to avoid this warning.\n",
      "  \"avoid this warning.\", FutureWarning)\n",
      "c:\\users\\raghu\\appdata\\local\\programs\\python\\python36\\lib\\site-packages\\sklearn\\svm\\base.py:196: FutureWarning: The default value of gamma will change from 'auto' to 'scale' in version 0.22 to account better for unscaled features. Set gamma explicitly to 'auto' or 'scale' to avoid this warning.\n",
      "  \"avoid this warning.\", FutureWarning)\n",
      "c:\\users\\raghu\\appdata\\local\\programs\\python\\python36\\lib\\site-packages\\sklearn\\svm\\base.py:196: FutureWarning: The default value of gamma will change from 'auto' to 'scale' in version 0.22 to account better for unscaled features. Set gamma explicitly to 'auto' or 'scale' to avoid this warning.\n",
      "  \"avoid this warning.\", FutureWarning)\n",
      "c:\\users\\raghu\\appdata\\local\\programs\\python\\python36\\lib\\site-packages\\sklearn\\svm\\base.py:196: FutureWarning: The default value of gamma will change from 'auto' to 'scale' in version 0.22 to account better for unscaled features. Set gamma explicitly to 'auto' or 'scale' to avoid this warning.\n",
      "  \"avoid this warning.\", FutureWarning)\n",
      "c:\\users\\raghu\\appdata\\local\\programs\\python\\python36\\lib\\site-packages\\sklearn\\svm\\base.py:196: FutureWarning: The default value of gamma will change from 'auto' to 'scale' in version 0.22 to account better for unscaled features. Set gamma explicitly to 'auto' or 'scale' to avoid this warning.\n",
      "  \"avoid this warning.\", FutureWarning)\n",
      "c:\\users\\raghu\\appdata\\local\\programs\\python\\python36\\lib\\site-packages\\sklearn\\svm\\base.py:196: FutureWarning: The default value of gamma will change from 'auto' to 'scale' in version 0.22 to account better for unscaled features. Set gamma explicitly to 'auto' or 'scale' to avoid this warning.\n",
      "  \"avoid this warning.\", FutureWarning)\n",
      "c:\\users\\raghu\\appdata\\local\\programs\\python\\python36\\lib\\site-packages\\sklearn\\svm\\base.py:196: FutureWarning: The default value of gamma will change from 'auto' to 'scale' in version 0.22 to account better for unscaled features. Set gamma explicitly to 'auto' or 'scale' to avoid this warning.\n",
      "  \"avoid this warning.\", FutureWarning)\n",
      "c:\\users\\raghu\\appdata\\local\\programs\\python\\python36\\lib\\site-packages\\sklearn\\svm\\base.py:196: FutureWarning: The default value of gamma will change from 'auto' to 'scale' in version 0.22 to account better for unscaled features. Set gamma explicitly to 'auto' or 'scale' to avoid this warning.\n",
      "  \"avoid this warning.\", FutureWarning)\n",
      "c:\\users\\raghu\\appdata\\local\\programs\\python\\python36\\lib\\site-packages\\sklearn\\svm\\base.py:196: FutureWarning: The default value of gamma will change from 'auto' to 'scale' in version 0.22 to account better for unscaled features. Set gamma explicitly to 'auto' or 'scale' to avoid this warning.\n",
      "  \"avoid this warning.\", FutureWarning)\n",
      "c:\\users\\raghu\\appdata\\local\\programs\\python\\python36\\lib\\site-packages\\sklearn\\svm\\base.py:196: FutureWarning: The default value of gamma will change from 'auto' to 'scale' in version 0.22 to account better for unscaled features. Set gamma explicitly to 'auto' or 'scale' to avoid this warning.\n",
      "  \"avoid this warning.\", FutureWarning)\n",
      "c:\\users\\raghu\\appdata\\local\\programs\\python\\python36\\lib\\site-packages\\sklearn\\svm\\base.py:196: FutureWarning: The default value of gamma will change from 'auto' to 'scale' in version 0.22 to account better for unscaled features. Set gamma explicitly to 'auto' or 'scale' to avoid this warning.\n",
      "  \"avoid this warning.\", FutureWarning)\n",
      "c:\\users\\raghu\\appdata\\local\\programs\\python\\python36\\lib\\site-packages\\sklearn\\svm\\base.py:196: FutureWarning: The default value of gamma will change from 'auto' to 'scale' in version 0.22 to account better for unscaled features. Set gamma explicitly to 'auto' or 'scale' to avoid this warning.\n",
      "  \"avoid this warning.\", FutureWarning)\n",
      "c:\\users\\raghu\\appdata\\local\\programs\\python\\python36\\lib\\site-packages\\sklearn\\svm\\base.py:196: FutureWarning: The default value of gamma will change from 'auto' to 'scale' in version 0.22 to account better for unscaled features. Set gamma explicitly to 'auto' or 'scale' to avoid this warning.\n",
      "  \"avoid this warning.\", FutureWarning)\n",
      "c:\\users\\raghu\\appdata\\local\\programs\\python\\python36\\lib\\site-packages\\sklearn\\svm\\base.py:196: FutureWarning: The default value of gamma will change from 'auto' to 'scale' in version 0.22 to account better for unscaled features. Set gamma explicitly to 'auto' or 'scale' to avoid this warning.\n",
      "  \"avoid this warning.\", FutureWarning)\n",
      "c:\\users\\raghu\\appdata\\local\\programs\\python\\python36\\lib\\site-packages\\sklearn\\svm\\base.py:196: FutureWarning: The default value of gamma will change from 'auto' to 'scale' in version 0.22 to account better for unscaled features. Set gamma explicitly to 'auto' or 'scale' to avoid this warning.\n",
      "  \"avoid this warning.\", FutureWarning)\n",
      "c:\\users\\raghu\\appdata\\local\\programs\\python\\python36\\lib\\site-packages\\sklearn\\svm\\base.py:196: FutureWarning: The default value of gamma will change from 'auto' to 'scale' in version 0.22 to account better for unscaled features. Set gamma explicitly to 'auto' or 'scale' to avoid this warning.\n",
      "  \"avoid this warning.\", FutureWarning)\n",
      "c:\\users\\raghu\\appdata\\local\\programs\\python\\python36\\lib\\site-packages\\sklearn\\svm\\base.py:196: FutureWarning: The default value of gamma will change from 'auto' to 'scale' in version 0.22 to account better for unscaled features. Set gamma explicitly to 'auto' or 'scale' to avoid this warning.\n",
      "  \"avoid this warning.\", FutureWarning)\n",
      "c:\\users\\raghu\\appdata\\local\\programs\\python\\python36\\lib\\site-packages\\sklearn\\svm\\base.py:196: FutureWarning: The default value of gamma will change from 'auto' to 'scale' in version 0.22 to account better for unscaled features. Set gamma explicitly to 'auto' or 'scale' to avoid this warning.\n",
      "  \"avoid this warning.\", FutureWarning)\n",
      "c:\\users\\raghu\\appdata\\local\\programs\\python\\python36\\lib\\site-packages\\sklearn\\svm\\base.py:196: FutureWarning: The default value of gamma will change from 'auto' to 'scale' in version 0.22 to account better for unscaled features. Set gamma explicitly to 'auto' or 'scale' to avoid this warning.\n",
      "  \"avoid this warning.\", FutureWarning)\n",
      "c:\\users\\raghu\\appdata\\local\\programs\\python\\python36\\lib\\site-packages\\sklearn\\svm\\base.py:196: FutureWarning: The default value of gamma will change from 'auto' to 'scale' in version 0.22 to account better for unscaled features. Set gamma explicitly to 'auto' or 'scale' to avoid this warning.\n",
      "  \"avoid this warning.\", FutureWarning)\n",
      "c:\\users\\raghu\\appdata\\local\\programs\\python\\python36\\lib\\site-packages\\sklearn\\svm\\base.py:196: FutureWarning: The default value of gamma will change from 'auto' to 'scale' in version 0.22 to account better for unscaled features. Set gamma explicitly to 'auto' or 'scale' to avoid this warning.\n",
      "  \"avoid this warning.\", FutureWarning)\n",
      "c:\\users\\raghu\\appdata\\local\\programs\\python\\python36\\lib\\site-packages\\sklearn\\svm\\base.py:196: FutureWarning: The default value of gamma will change from 'auto' to 'scale' in version 0.22 to account better for unscaled features. Set gamma explicitly to 'auto' or 'scale' to avoid this warning.\n",
      "  \"avoid this warning.\", FutureWarning)\n",
      "c:\\users\\raghu\\appdata\\local\\programs\\python\\python36\\lib\\site-packages\\sklearn\\svm\\base.py:196: FutureWarning: The default value of gamma will change from 'auto' to 'scale' in version 0.22 to account better for unscaled features. Set gamma explicitly to 'auto' or 'scale' to avoid this warning.\n",
      "  \"avoid this warning.\", FutureWarning)\n"
     ]
    },
    {
     "name": "stderr",
     "output_type": "stream",
     "text": [
      "c:\\users\\raghu\\appdata\\local\\programs\\python\\python36\\lib\\site-packages\\sklearn\\svm\\base.py:196: FutureWarning: The default value of gamma will change from 'auto' to 'scale' in version 0.22 to account better for unscaled features. Set gamma explicitly to 'auto' or 'scale' to avoid this warning.\n",
      "  \"avoid this warning.\", FutureWarning)\n",
      "c:\\users\\raghu\\appdata\\local\\programs\\python\\python36\\lib\\site-packages\\sklearn\\svm\\base.py:196: FutureWarning: The default value of gamma will change from 'auto' to 'scale' in version 0.22 to account better for unscaled features. Set gamma explicitly to 'auto' or 'scale' to avoid this warning.\n",
      "  \"avoid this warning.\", FutureWarning)\n",
      "c:\\users\\raghu\\appdata\\local\\programs\\python\\python36\\lib\\site-packages\\sklearn\\svm\\base.py:196: FutureWarning: The default value of gamma will change from 'auto' to 'scale' in version 0.22 to account better for unscaled features. Set gamma explicitly to 'auto' or 'scale' to avoid this warning.\n",
      "  \"avoid this warning.\", FutureWarning)\n",
      "c:\\users\\raghu\\appdata\\local\\programs\\python\\python36\\lib\\site-packages\\sklearn\\svm\\base.py:196: FutureWarning: The default value of gamma will change from 'auto' to 'scale' in version 0.22 to account better for unscaled features. Set gamma explicitly to 'auto' or 'scale' to avoid this warning.\n",
      "  \"avoid this warning.\", FutureWarning)\n",
      "c:\\users\\raghu\\appdata\\local\\programs\\python\\python36\\lib\\site-packages\\sklearn\\svm\\base.py:196: FutureWarning: The default value of gamma will change from 'auto' to 'scale' in version 0.22 to account better for unscaled features. Set gamma explicitly to 'auto' or 'scale' to avoid this warning.\n",
      "  \"avoid this warning.\", FutureWarning)\n",
      "c:\\users\\raghu\\appdata\\local\\programs\\python\\python36\\lib\\site-packages\\sklearn\\svm\\base.py:196: FutureWarning: The default value of gamma will change from 'auto' to 'scale' in version 0.22 to account better for unscaled features. Set gamma explicitly to 'auto' or 'scale' to avoid this warning.\n",
      "  \"avoid this warning.\", FutureWarning)\n",
      "c:\\users\\raghu\\appdata\\local\\programs\\python\\python36\\lib\\site-packages\\sklearn\\svm\\base.py:196: FutureWarning: The default value of gamma will change from 'auto' to 'scale' in version 0.22 to account better for unscaled features. Set gamma explicitly to 'auto' or 'scale' to avoid this warning.\n",
      "  \"avoid this warning.\", FutureWarning)\n",
      "c:\\users\\raghu\\appdata\\local\\programs\\python\\python36\\lib\\site-packages\\sklearn\\svm\\base.py:196: FutureWarning: The default value of gamma will change from 'auto' to 'scale' in version 0.22 to account better for unscaled features. Set gamma explicitly to 'auto' or 'scale' to avoid this warning.\n",
      "  \"avoid this warning.\", FutureWarning)\n",
      "c:\\users\\raghu\\appdata\\local\\programs\\python\\python36\\lib\\site-packages\\sklearn\\svm\\base.py:196: FutureWarning: The default value of gamma will change from 'auto' to 'scale' in version 0.22 to account better for unscaled features. Set gamma explicitly to 'auto' or 'scale' to avoid this warning.\n",
      "  \"avoid this warning.\", FutureWarning)\n",
      "c:\\users\\raghu\\appdata\\local\\programs\\python\\python36\\lib\\site-packages\\sklearn\\svm\\base.py:196: FutureWarning: The default value of gamma will change from 'auto' to 'scale' in version 0.22 to account better for unscaled features. Set gamma explicitly to 'auto' or 'scale' to avoid this warning.\n",
      "  \"avoid this warning.\", FutureWarning)\n"
     ]
    },
    {
     "name": "stdout",
     "output_type": "stream",
     "text": [
      "{0.001: 0.6191772901381988, 0.01: 0.6191772901381988, 0.1: 0.6841650182919972, 1: 0.7118696207304891, 10: 0.6949652132302189, 100: 0.6494167510149357, 1000: 0.6324175206239787}\n",
      "Best parameter:  1 0.7118696207304891\n"
     ]
    },
    {
     "name": "stderr",
     "output_type": "stream",
     "text": [
      "c:\\users\\raghu\\appdata\\local\\programs\\python\\python36\\lib\\site-packages\\sklearn\\svm\\base.py:196: FutureWarning: The default value of gamma will change from 'auto' to 'scale' in version 0.22 to account better for unscaled features. Set gamma explicitly to 'auto' or 'scale' to avoid this warning.\n",
      "  \"avoid this warning.\", FutureWarning)\n"
     ]
    },
    {
     "name": "stdout",
     "output_type": "stream",
     "text": [
      "Accuracy on test set:  0.7118707738542449\n"
     ]
    }
   ],
   "source": [
    "cdict = {}\n",
    "for c in [0.001,0.01,0.1,1,10,100,1000]:\n",
    "    clf = svm.SVC(C=c);\n",
    "    scores = cross_val_score(clf, X_train, y_train, cv=5, scoring='accuracy')\n",
    "    cdict[c] = scores.mean()\n",
    "print (cdict)\n",
    "best_c = max(cdict, key=cdict.get)\n",
    "print ('Best parameter: ',best_c, cdict[best_c])\n",
    "clfsvm = svm.SVC(C=best_c);\n",
    "clfsvm.fit(X_train,y_train)\n",
    "predicted = clfsvm.predict(X_test)\n",
    "print ('Accuracy on test set: ',metrics.accuracy_score(y_test,predicted))"
   ]
  },
  {
   "cell_type": "code",
   "execution_count": 49,
   "metadata": {},
   "outputs": [
    {
     "name": "stdout",
     "output_type": "stream",
     "text": [
      "{50: 0.7331897758872005, 100: 0.7321561181713736, 150: 0.732720160008115, 200: 0.7341287430233507, 250: 0.7334712014060251}\n",
      "Best parameter:  200 0.7341287430233507\n",
      "Accuracy on test set:  0.736664162283997\n"
     ]
    }
   ],
   "source": [
    "from sklearn.ensemble import AdaBoostClassifier\n",
    "ndict={}\n",
    "for n in [50,100,150,200,250]:\n",
    "    clf = AdaBoostClassifier(n_estimators=n);\n",
    "    scores = cross_val_score(clf, X_train, y_train, cv=5, scoring='accuracy')\n",
    "    ndict[n] = scores.mean()\n",
    "print (ndict)\n",
    "best_n = max(ndict, key=ndict.get)\n",
    "print ('Best parameter: ',best_n, ndict[best_n])\n",
    "clfada = AdaBoostClassifier(n_estimators=best_n);\n",
    "clfada.fit(X_train,y_train)\n",
    "predicted = clfada.predict(X_test)\n",
    "print ('Accuracy on test set: ', metrics.accuracy_score(y_test,predicted))"
   ]
  },
  {
   "cell_type": "code",
   "execution_count": 54,
   "metadata": {},
   "outputs": [],
   "source": [
    "index_igy = [index for index,value in enumerate(dfpredict.columns) if value == \"intendedgradyear\"]\n",
    "select = [i for i in range(X_train.shape[1]) if i not in index_igy]"
   ]
  },
  {
   "cell_type": "code",
   "execution_count": 55,
   "metadata": {},
   "outputs": [
    {
     "name": "stdout",
     "output_type": "stream",
     "text": [
      "Random Forest: \n",
      "{5: 0.6942154067350714, 10: 0.7132798355815179, 25: 0.7184451692147562, 50: 0.7297146272027026, 100: 0.7364763813820767, 250: 0.734222286907605, 500: 0.7373215841156223, 1000: 0.7368517036145164}\n",
      "Best parameter:  500 0.7373215841156223\n",
      "Accuracy on test set:  0.7317806160781367\n"
     ]
    }
   ],
   "source": [
    "X_train1 = X_train[:,select]\n",
    "X_test1 = X_test[:,select]\n",
    "y_train1=y_train\n",
    "y_test1=y_test\n",
    "print ('Random Forest: ')\n",
    "ntdict = {}\n",
    "for nt in [5,10,25,50,100,250,500,1000]:\n",
    "    clf = RandomForestClassifier(n_estimators=nt,criterion=\"gini\")\n",
    "    scores = cross_val_score(clf, X_train1, y_train1, cv=5)\n",
    "    ntdict[nt] = scores.mean()\n",
    "print (ntdict)\n",
    "best_nt = max(ntdict, key=ntdict.get)\n",
    "print ('Best parameter: ',best_nt, ntdict[best_nt])\n",
    "clfRF = RandomForestClassifier(n_estimators=nt)\n",
    "clfRF.fit(X_train1,y_train1)\n",
    "predicted = clfRF.predict(X_test1)\n",
    "print ('Accuracy on test set: ', metrics.accuracy_score(y_test1,predicted))"
   ]
  },
  {
   "cell_type": "code",
   "execution_count": 56,
   "metadata": {},
   "outputs": [
    {
     "data": {
      "image/png": "[encoded data removed]",
      "text/plain": [
       "<Figure size 432x288 with 1 Axes>"
      ]
     },
     "metadata": {},
     "output_type": "display_data"
    }
   ],
   "source": [
    "# create interpretable labels for the columns\n",
    "better_labels = {\n",
    "    \"admissionstest\": \"ACT/SAT score\",\n",
    "    \"acceptrate\": \"College acceptance rate\",\n",
    "    \"GPA\": \"GPA\",\n",
    "    \"averageAP\": \"Average AP score\",\n",
    "    \"size\": \"College size\",\n",
    "    \"AP\": \"# AP exams taken\",\n",
    "    \"SATsubject\": \"# SAT subject tests taken\",\n",
    "    \"female\": \"Gender / Female\",\n",
    "    \"schooltype\": \"Private High School\",\n",
    "    \"MinorityRace\": \"Underrepresented Minority\",\n",
    "    \"earlyAppl\": \"Early Application\",\n",
    "    \"outofstate\": \"Out of State\",\n",
    "    \"public\": \"Public College\",\n",
    "    \"alumni\": \"Legacy\",\n",
    "    \"international\": \"International Student\",\n",
    "    \"sports\": \"Varsity Sports\"\n",
    "    }\n",
    "# create dictionary of feature importances\n",
    "dfpredict1 = dfpredict.drop(\"intendedgradyear\",axis=1)\n",
    "X1 = imp.transform(dfpredict1)\n",
    "y1 = dfresponse\n",
    "X_train1, X_test1, y_train1, y_test1 = train_test_split(X1, y1, test_size=0.2)\n",
    "clf = RandomForestClassifier(n_estimators=100,criterion=\"gini\")\n",
    "clf.fit(X_train1,y_train1)\n",
    "feature_importance = {}\n",
    "for i in range(len(dfpredict1.columns)):\n",
    "    feature_importance[better_labels[dfpredict1.columns[i]]] = clf.feature_importances_[i]\n",
    "# plot sorted importances\n",
    "sns.set_style(\"white\")\n",
    "plt.barh(range(len(dfpredict1.columns)),sorted(feature_importance.values()), align=\"center\",alpha=0.7,edgecolor='white')\n",
    "plt.ylim([-1,17])\n",
    "plt.yticks(range(len(dfpredict1.columns)), sorted(feature_importance,key=feature_importance.get))\n",
    "plt.ylabel(\"Factor\")\n",
    "plt.xlabel(\"importance\")\n",
    "plt.title(\"Relative Importance to College Admission\")\n",
    "plt.gca().yaxis.grid(False)\n",
    "plt.gca().xaxis.grid(True,color='0.95')\n",
    "plt.tight_layout()\n",
    "sns.despine(left=True,bottom=True)\n",
    "plt.savefig(\"features.png\")\n",
    "plt.show()"
   ]
  },
  {
   "cell_type": "code",
   "execution_count": 70,
   "metadata": {
    "scrolled": false
   },
   "outputs": [
    {
     "data": {
      "text/plain": [
       "[{'college': 'Princeton', 'prob': 0.334},\n",
       " {'college': 'Harvard', 'prob': 0.24},\n",
       " {'college': 'Yale', 'prob': 0.306},\n",
       " {'college': 'Columbia', 'prob': 0.36},\n",
       " {'college': 'Stanford', 'prob': 0.245},\n",
       " {'college': 'UChicago', 'prob': 0.551},\n",
       " {'college': 'MIT', 'prob': 0.384},\n",
       " {'college': 'Duke', 'prob': 0.508},\n",
       " {'college': 'UPenn', 'prob': 0.327},\n",
       " {'college': 'CalTech', 'prob': 0.472},\n",
       " {'college': 'JohnsHopkins', 'prob': 0.587},\n",
       " {'college': 'Dartmouth', 'prob': 0.523},\n",
       " {'college': 'Northwestern', 'prob': 0.6726666666666667},\n",
       " {'college': 'Brown', 'prob': 0.472},\n",
       " {'college': 'Cornell', 'prob': 0.598},\n",
       " {'college': 'Vanderbilt', 'prob': 0.688},\n",
       " {'college': 'WashU', 'prob': 0.681},\n",
       " {'college': 'Rice', 'prob': 0.741},\n",
       " {'college': 'NotreDame', 'prob': 0.718},\n",
       " {'college': 'UCB', 'prob': 0.739},\n",
       " {'college': 'Emory', 'prob': 0.712},\n",
       " {'college': 'Georgetown', 'prob': 0.671},\n",
       " {'college': 'CarnegieMellon', 'prob': 0.786},\n",
       " {'college': 'UCLA', 'prob': 0.773},\n",
       " {'college': 'USC', 'prob': 0.696}]"
      ]
     },
     "execution_count": 70,
     "metadata": {},
     "output_type": "execute_result"
    }
   ],
   "source": [
    "### test a candidate's chances for each college\n",
    "\n",
    "candidate = [0.926899206,7,1.06733864,\n",
    "             3,-0.187109979,0,1,\n",
    "             0,0,1,0,0,\n",
    "             0]\n",
    "college_cols = [\"acceptrate\",\"size\",\"public\"]\n",
    "colleges = ti.College()\n",
    "preds = []\n",
    "for i, row in colleges.df.iterrows():\n",
    "    Xp1 = candidate + list(row[college_cols])\n",
    "    y_rf = clfRF.predict_proba([Xp1])[0][1]\n",
    "    p =  {'college':row.collegeID, 'prob':y_rf}\n",
    "    preds.append(p)\n",
    "    \n",
    "preds   "
   ]
  },
  {
   "cell_type": "code",
   "execution_count": 72,
   "metadata": {},
   "outputs": [],
   "source": [
    "import pickle\n",
    "\n",
    "\n",
    "\n",
    "filename = 'finalized_model.sav'\n",
    "pickle.dump(clfRF, open(filename, 'wb'))"
   ]
  },
  {
   "cell_type": "code",
   "execution_count": 74,
   "metadata": {},
   "outputs": [],
   "source": [
    "loaded_model = pickle.load(open(filename, 'rb'))"
   ]
  },
  {
   "cell_type": "code",
   "execution_count": 75,
   "metadata": {},
   "outputs": [
    {
     "data": {
      "text/plain": [
       "[{'college': 'Princeton', 'prob': 0.334},\n",
       " {'college': 'Harvard', 'prob': 0.24},\n",
       " {'college': 'Yale', 'prob': 0.306},\n",
       " {'college': 'Columbia', 'prob': 0.36},\n",
       " {'college': 'Stanford', 'prob': 0.245},\n",
       " {'college': 'UChicago', 'prob': 0.551},\n",
       " {'college': 'MIT', 'prob': 0.384},\n",
       " {'college': 'Duke', 'prob': 0.508},\n",
       " {'college': 'UPenn', 'prob': 0.327},\n",
       " {'college': 'CalTech', 'prob': 0.472},\n",
       " {'college': 'JohnsHopkins', 'prob': 0.587},\n",
       " {'college': 'Dartmouth', 'prob': 0.523},\n",
       " {'college': 'Northwestern', 'prob': 0.6726666666666667},\n",
       " {'college': 'Brown', 'prob': 0.472},\n",
       " {'college': 'Cornell', 'prob': 0.598},\n",
       " {'college': 'Vanderbilt', 'prob': 0.688},\n",
       " {'college': 'WashU', 'prob': 0.681},\n",
       " {'college': 'Rice', 'prob': 0.741},\n",
       " {'college': 'NotreDame', 'prob': 0.718},\n",
       " {'college': 'UCB', 'prob': 0.739},\n",
       " {'college': 'Emory', 'prob': 0.712},\n",
       " {'college': 'Georgetown', 'prob': 0.671},\n",
       " {'college': 'CarnegieMellon', 'prob': 0.786},\n",
       " {'college': 'UCLA', 'prob': 0.773},\n",
       " {'college': 'USC', 'prob': 0.696}]"
      ]
     },
     "execution_count": 75,
     "metadata": {},
     "output_type": "execute_result"
    }
   ],
   "source": [
    "candidate = [0.926899206,7,1.06733864,\n",
    "             3,-0.187109979,0,1,\n",
    "             0,0,1,0,0,\n",
    "             0]\n",
    "college_cols = [\"acceptrate\",\"size\",\"public\"]\n",
    "colleges = ti.College()\n",
    "preds = []\n",
    "for i, row in colleges.df.iterrows():\n",
    "    Xp1 = candidate + list(row[college_cols])\n",
    "    y_rf = loaded_model.predict_proba([Xp1])[0][1]\n",
    "    p =  {'college':row.collegeID, 'prob':y_rf}\n",
    "    preds.append(p)\n",
    "    \n",
    "preds   "
   ]
  },
  {
   "cell_type": "code",
   "execution_count": null,
   "metadata": {},
   "outputs": [],
   "source": []
  }
 ],
 "metadata": {
  "kernelspec": {
   "display_name": "Python 3",
   "language": "python",
   "name": "python3"
  },
  "language_info": {
   "codemirror_mode": {
    "name": "ipython",
    "version": 3
   },
   "file_extension": ".py",
   "mimetype": "text/x-python",
   "name": "python",
   "nbconvert_exporter": "python",
   "pygments_lexer": "ipython3",
   "version": "3.5.2"
  }
 },
 "nbformat": 4,
 "nbformat_minor": 1
}
